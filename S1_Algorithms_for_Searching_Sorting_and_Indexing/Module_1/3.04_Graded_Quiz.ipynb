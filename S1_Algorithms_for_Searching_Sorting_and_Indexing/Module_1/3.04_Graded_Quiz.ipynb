{
 "cells": [
  {
   "cell_type": "markdown",
   "metadata": {},
   "source": [
    "    1. (Consider the python function below (read the comments carefully)"
   ]
  },
  {
   "cell_type": "code",
   "execution_count": null,
   "metadata": {},
   "outputs": [],
   "source": [
    "def foo(n):\n",
    "    sum = 0 # time cost of assignment = c1\n",
    "    # assume initialization of i to 0 at the start of loop has 0 cost\n",
    "    for i in range(n): # cost for each (increment i and check if in range) = c2 \n",
    "        sum = sum + i * i # cost of addition = c3, \n",
    "        # cost of multiplication = c4 and \n",
    "        # cost of assignment = c1\n",
    "    return sum # cost of return = c5"
   ]
  },
  {
   "cell_type": "markdown",
   "metadata": {},
   "source": [
    "What is the overall time cost of calling the \"foo\" function, in terms of n,c1,c2,c3,c4 and c5?\n",
    "\n",
    "- [**v**] $(n+1)∗c1+n∗(c2+c3+c4)+c5$\n",
    "\n",
    "- [] $c1+n∗(c2+c3+c4)+c5$\n",
    "\n",
    "- [] $n∗n∗(c2+c3+c4+c1)+c1+c5$\n",
    "\n",
    "- [] $c1+c2+c3+c4+c5$"
   ]
  },
  {
   "cell_type": "markdown",
   "metadata": {},
   "source": [
    "    2. Consider the following array, which is almost sorted in ascending order.  There are just two elements (3 and 7) out of place.\n",
    "\n",
    "$A=[1,2,7,4,5,6,3,8,9]$\n",
    "\n",
    "Select all the true facts about running insertion sort on \n",
    "\n",
    "A from the list below. Ensure that no wrong choices are selected.\n",
    "\n",
    "- [v] During the execution of insertion sort, when the element \n",
    "7 is to be inserted into the sorted portion [1,2], no swap operation will occur because 2 < 7.\n",
    "\n",
    "- [v] After \n",
    "7 has been inserted, the insertion of elements 4, 5 and 6 will incur one swap operation each, with the number 7 remaining at the end of the sorted portion of the array.\n",
    "\n",
    "- [v] Insertion of the element 3 into the sorted portion [1,2,4,5,6,7] involves 4 swap operations, with 4, 5, 6 and 7 respectively."
   ]
  },
  {
   "cell_type": "markdown",
   "metadata": {},
   "source": [
    "    3. Consider this array of size n sorted in descending order: [n,n−1,…,1]. Suppose we ran insertion sort to sort this array in ascending order. Select all the correct options from the list below.\n",
    "\n",
    "- [v] After i steps, suppose the sorted portion is [n−i+1,…,n] and the element to be inserted is (n−i).  We will need to perform i swaps to ensure that n−i is inserted in the correct place.\n",
    "\n",
    "- [v] The total number of swaps is given by: $1+2+⋯+(n−1)={n(n−1)\\over2} $\n",
    "\n",
    "- [] Consider a different array  a: [a1, a2, ..., an]  that satisfies the property that a[i] < a[i+1] for all but one place a[j] wherein a[j] > a[j+1]. Insertion sort as presented in lecture will run in Θ(n) time for such an \"almost\" ascending sorted array."
   ]
  }
 ],
 "metadata": {
  "kernelspec": {
   "display_name": "Python 3",
   "language": "python",
   "name": "python3"
  },
  "language_info": {
   "codemirror_mode": {
    "name": "ipython",
    "version": 3
   },
   "file_extension": ".py",
   "mimetype": "text/x-python",
   "name": "python",
   "nbconvert_exporter": "python",
   "pygments_lexer": "ipython3",
   "version": "3.11.0"
  }
 },
 "nbformat": 4,
 "nbformat_minor": 2
}
