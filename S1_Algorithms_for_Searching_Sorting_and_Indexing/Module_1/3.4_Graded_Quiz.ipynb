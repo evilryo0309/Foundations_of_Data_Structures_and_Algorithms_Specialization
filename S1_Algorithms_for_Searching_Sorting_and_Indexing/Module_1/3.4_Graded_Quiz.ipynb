{
 "cells": [
  {
   "cell_type": "code",
   "execution_count": null,
   "metadata": {},
   "outputs": [],
   "source": [
    "def foo(n):\n",
    "    sum = 0 # time cost of assignment = c1\n",
    "    # assume initialization of i to 0 at the start of loop has 0 cost\n",
    "    for i in range(n): # cost for each (increment i and check if in range) = c2 \n",
    "        sum = sum + i * i # cost of addition = c3, \n",
    "        # cost of multiplication = c4 and \n",
    "        # cost of assignment = c1\n",
    "    return sum # cost of return = c5"
   ]
  }
 ],
 "metadata": {
  "kernelspec": {
   "display_name": "Python 3",
   "language": "python",
   "name": "python3"
  },
  "language_info": {
   "codemirror_mode": {
    "name": "ipython",
    "version": 3
   },
   "file_extension": ".py",
   "mimetype": "text/x-python",
   "name": "python",
   "nbconvert_exporter": "python",
   "pygments_lexer": "ipython3",
   "version": "3.11.0"
  }
 },
 "nbformat": 4,
 "nbformat_minor": 2
}
