{
 "cells": [
  {
   "cell_type": "markdown",
   "metadata": {},
   "source": [
    "# Exercises"
   ]
  },
  {
   "cell_type": "markdown",
   "metadata": {},
   "source": [
    "# 2.1-1\n",
    "\n",
    "Q:\n",
    "\n",
    "    Using Figure 2.2 as a model, illustrate the operation of OF INSERTION-SORT on an array initially containing the sequence <31,41, 59, 26, 41, 58>\n",
    "\n",
    "A:\n",
    "\n",
    "||1|2|3|4|5|6|\n",
    "|-|-|-|-|-|-|-|\n",
    "|step 1|<span style=\"color:red\">**31**</span>|41|59|26|41|58|\n",
    "|step 2|31|<span style=\"color:red\">**41**</span>|59|26|41|58|\n",
    "|step 3|31|41|<span style=\"color:red\">**59**</span>|26|41|58|\n",
    "|step 4|<span style=\"color:red\">**26**</span>|31|41|59|41|58|\n",
    "|step 5|26|31|41|<span style=\"color:red\">**41**</span>|59|58|\n",
    "|step 6|26|31|41|41|<span style=\"color:red\">**58**</span>|59|\n"
   ]
  },
  {
   "cell_type": "markdown",
   "metadata": {},
   "source": [
    "# 2.1-2\n",
    "\n",
    "Q:\n",
    "\n",
    "    Consider the procedure SUM-ARRAY on the facing page. It computes the sum of the n numbers in array A[1:n]. State a loop invariant for this procedure, and use its initialization, maintenance, and termination properties to show that the SUM-ARRAY procedure returns the sum of the numbers in A[1:n].\n",
    "\n",
    "```python\n",
    "SUM-ARRAY(A, n)\n",
    "    sum = 0\n",
    "    for i = 1 to n\n",
    "        sum = sum + A[i]\n",
    "    return sum\n",
    "```\n",
    "\n",
    "A:\n",
    "\n",
    "**Loop Invariant**: At the start of each loop iteration, `sum` contains the total of the first `i-1` elements of array A.\n",
    "\n",
    "1. **Initialization**: Before the loop starts, `i=1`, so `sum` is the total of the first 0 elements, which is 0.\n",
    "2. **Maintenance**: If the invariant holds at the start of the `i-th` iteration, it also holds at the start of the `i+1-th` iteration.\n",
    "3. **Termination**: When the loop ends, `sum` contains the total of all elements in array A.\n",
    "\n",
    "Through these three points, we've shown that `SUM-ARRAY` indeed returns the total of the numbers in `A[1:n]`."
   ]
  },
  {
   "cell_type": "markdown",
   "metadata": {},
   "source": [
    "# 2.1-3\n",
    "\n",
    "Q:\n",
    "\n",
    "    Rewrite the INSERTION-SORT procedure to sort into monotonically decreasing instead of monotonically increasing order.\n",
    "\n",
    "A:\n",
    "\n",
    "```python\n",
    "INSERTION-SORT(A, n)\n",
    "    for i = 2 to n\n",
    "        key = A[i]\n",
    "        # Insert A[i] into the sorted subarray A[1:i-1]\n",
    "        j = i - 1\n",
    "        while j > 0 and A[j] < key\n",
    "            A[j + 1] = A[j]\n",
    "            j = j - 1\n",
    "        A[j + 1] = key\n",
    "```\n"
   ]
  },
  {
   "cell_type": "markdown",
   "metadata": {},
   "source": [
    "# 2.1-4\n",
    "\n",
    "Q:\n",
    "\n",
    "    Consider the searching problem:\n",
    "**Input:** A sequence of n numbers <a1, a2, ... ,an> sorted in array A[1:n] and a value x.\n",
    "\n",
    "**Output:** An index i such that x equals A[i] or the special value NIL if x does not appear in *A*.\n",
    "\n",
    "    Write pseudocode for *linear search**, which scans through the array from beginning to end, looking for x. Using a loop invariant, prove that your algotithm is correcct. Make sure that your loop invariant fulfills the three neccessary properties.\n",
    "\n",
    "A:\n",
    "\n",
    "```python\n",
    "LINEAR-SEARCH(A, elt)\n",
    "    n = len(A)\n",
    "    index = NIL\n",
    "    for i = 1 to n\n",
    "        if A[i] = elt\n",
    "            index = i\n",
    "            break\n",
    "    \n",
    "    return index\n",
    "```\n",
    "**Loop Invariant**: At the start of each loop iteration, `index` contains the index if the first `i-1` elements contains elt.\n",
    "\n",
    "1. **Initialization**: Before the loop starts, `i=1`, so `index` is the index of the first 0 elements, which is NIL.\n",
    "2. **Maintenance**: If the invariant holds at the start of the `i-th` iteration, it also holds at the start of the `i+1-th` iteration.\n",
    "3. **Termination**: When the loop ends, `index` contains the index of elt in array A.\n"
   ]
  },
  {
   "cell_type": "markdown",
   "metadata": {},
   "source": [
    "# 2.1-5\n",
    "\n",
    "Q:\n",
    "\n",
    "Consider the problem of adding two n-bit binary integers a and b, stored in two n-element arrays `A[0:n - 1]` and `B[0:n - 1]`, where each element is either 0 or 1, $a = \\sum_{i=0}^{n-1}A[i] \\cdot 2^i$, and $b = \\sum_{i=0}^{n-1}B[i] \\cdot 2^i$. The sum c = a + b of the two integers should be stored in binary form in an (n + 1)-element array C[0:n], where $c = \\sum_{i=0}^{n}C[i] \\cdot 2^i$. Write a procedure ADD-BINARY-INTEGERS that takes as input arrays *A* and *B*, along with the length *n*, and returns array *C* holding the sum.\n",
    "\n",
    "A:\n",
    "\n",
    "```python\n",
    "ADD-BINARY-INTEGERS(A, B)\n",
    "    C = []\n",
    "    for i=0 to n-1\n",
    "        C[i] = A[i] + B[i]\n",
    "        if C[i] = 2\n",
    "            C[i] = 0\n",
    "            C[i+1] = 1\n",
    "        elif C[i] = 3\n",
    "            C[i] = 1\n",
    "            C[i+1] = 1\n",
    "            \n",
    "    return C\n",
    "```\n"
   ]
  }
 ],
 "metadata": {
  "language_info": {
   "name": "python"
  }
 },
 "nbformat": 4,
 "nbformat_minor": 2
}
