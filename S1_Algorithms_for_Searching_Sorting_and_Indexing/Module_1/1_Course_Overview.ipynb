{
 "cells": [
  {
   "cell_type": "markdown",
   "metadata": {},
   "source": [
    "- algorithms is Computational Procedule\n",
    "    - exists long time ago\n",
    "    - input -> box(algo) -> output\n",
    "\n",
    ">\n",
    "         121\n",
    "     ×   234\n",
    "    ----------\n",
    "         484    (121 * 4)\n",
    "        363     (121 * 30)\n",
    "       242      (121 * 200)\n",
    "    ----------\n",
    "       28314"
   ]
  },
  {
   "cell_type": "markdown",
   "metadata": {},
   "source": [
    "- algorithms are meant to be implemented on a computer.\n",
    "  - Turing\n",
    "  - Don Knuth"
   ]
  },
  {
   "cell_type": "markdown",
   "metadata": {},
   "source": [
    "- algorithms as a Technology\n",
    "  - google search: best restaurant greek\n",
    "  - google map: A to B shortest way\n",
    "  - airport: resources arrangement\n",
    "  - Fedex: Travelling Salesperson Problem (TSP)\n",
    "  - Stable Marriage Algorithm"
   ]
  }
 ],
 "metadata": {
  "language_info": {
   "name": "python"
  }
 },
 "nbformat": 4,
 "nbformat_minor": 2
}
