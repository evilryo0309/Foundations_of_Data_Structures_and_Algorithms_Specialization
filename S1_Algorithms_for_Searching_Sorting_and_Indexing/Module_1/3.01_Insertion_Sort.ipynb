{
 "cells": [
  {
   "cell_type": "markdown",
   "metadata": {},
   "source": [
    "# Insertion Sort"
   ]
  },
  {
   "cell_type": "markdown",
   "metadata": {},
   "source": [
    "```\n",
    "insert(A, j)\n",
    "    for i = j - 1 downto 1:         // c3 time unit\n",
    "        if A[i] > A[i + 1]:         // c1 time unit\n",
    "            swap(A[i], A[i + 1])    // c2 time unit\n",
    "        else:\n",
    "            break                   // c4 time unit\n",
    "```\n",
    "\n",
    "- Best Case: c3 + c1 + c4 -> O(1)\n",
    "- Worst Case: ( j - 1 )( c3 + c1 + c2 ) -> O(j)"
   ]
  },
  {
   "cell_type": "markdown",
   "metadata": {},
   "source": [
    "```\n",
    "insertionSort(A)\n",
    "    for j = 1 upto n:\n",
    "        insert(A, j)\n",
    "```\n",
    "- Best Case: n(c3 + c1 + c4)\n",
    "- Worst Case: $\\sum_{j=1}^{n}$( j - 1 )( c3 + c1 + c2 ) = ( c1 + c2 + c3 ) [ 0 + 1 + 2 + ... + n - 1 ] = $\\frac{n(n-1)}{2}$( c1 + c2 + c3 ) -> O($n^2$)"
   ]
  },
  {
   "cell_type": "code",
   "execution_count": null,
   "metadata": {},
   "outputs": [],
   "source": [
    "def insert(A, j):\n",
    "    for i in range(j - 1, -1, -1):  # i 從 j-1 開始，遞減到 0\n",
    "        if A[i] > A[i + 1]:\n",
    "            A[i], A[i + 1] = A[i + 1], A[i]  # 交換元素\n",
    "        else:\n",
    "            break"
   ]
  },
  {
   "cell_type": "code",
   "execution_count": null,
   "metadata": {},
   "outputs": [],
   "source": [
    "def insertionSort(A):\n",
    "    n = len(A)\n",
    "    for j in range(1, n):  # 在 Python 中，範圍是從 1 到 n-1\n",
    "        insert(A, j)"
   ]
  },
  {
   "cell_type": "code",
   "execution_count": null,
   "metadata": {},
   "outputs": [],
   "source": [
    "arr = [5, 2, 4, 6, 1, 3]\n",
    "insertionSort(arr)\n",
    "print(arr)"
   ]
  }
 ],
 "metadata": {
  "kernelspec": {
   "display_name": "Python 3",
   "language": "python",
   "name": "python3"
  },
  "language_info": {
   "codemirror_mode": {
    "name": "ipython",
    "version": 3
   },
   "file_extension": ".py",
   "mimetype": "text/x-python",
   "name": "python",
   "nbconvert_exporter": "python",
   "pygments_lexer": "ipython3",
   "version": "3.11.0"
  }
 },
 "nbformat": 4,
 "nbformat_minor": 2
}
