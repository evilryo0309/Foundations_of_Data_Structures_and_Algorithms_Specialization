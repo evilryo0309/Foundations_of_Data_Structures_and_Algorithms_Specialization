{
 "cells": [
  {
   "cell_type": "markdown",
   "metadata": {},
   "source": [
    "# Computational Complexity"
   ]
  },
  {
   "cell_type": "markdown",
   "metadata": {},
   "source": [
    "## Chanllenge\n",
    "\n",
    "1. Independent\n",
    "  - Time \n",
    "  - Space\n",
    "\n",
    "2. \n",
    "  - Best Case Complexity (too self-serving)\n",
    "  - Worst Case Complexity (most interesting)\n",
    "  - Average Case Complexity"
   ]
  }
 ],
 "metadata": {
  "language_info": {
   "name": "python"
  }
 },
 "nbformat": 4,
 "nbformat_minor": 2
}
