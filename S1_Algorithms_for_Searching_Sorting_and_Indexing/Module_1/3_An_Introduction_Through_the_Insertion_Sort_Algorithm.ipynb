{
 "cells": [
  {
   "cell_type": "markdown",
   "metadata": {},
   "source": [
    "# Sorting Problem"
   ]
  },
  {
   "cell_type": "markdown",
   "metadata": {},
   "source": [
    "Mathematically speaking,  total ordering is a relation  <= among the elements in a set with the following properties:\n",
    "\n",
    "    - It is \"reflexive\" : i.e, a <= a for all elements a.\n",
    "    - It is \"transitive\" : i.e, if a <= b and b <= c then a <= c\n",
    "    - It is \"anti-symmetric\" : i.e, if a <= b and b <= a then a = b\n",
    "    - It is \"total\" : for any two elements a, b it is the case that a <= b or b <= a."
   ]
  },
  {
   "cell_type": "markdown",
   "metadata": {},
   "source": [
    "1. Output must have exactly elements as input \n",
    "2. The second requirement is output must be sorted according to the provided order.\n",
    "\n",
    "The Tyranny of Array Indexing.\n",
    "Many programming languages such as C/C++ and Python index arrays starting from 0.  In python, an array a of length 10 will have indices a[0], .., a[9]. It is important that we not access a[10] as it will cause what is called an \"out of bounds access\". These kinds of accesses will lead to code crashes through exceptions in python but in languages like C they may be the cause of serious security vulnerabilities called \"buffer overflow attacks\". It is important to be very careful when handling arrays to be very sure that no such out of bounds accesses are possible in our code."
   ]
  },
  {
   "cell_type": "markdown",
   "metadata": {},
   "source": [
    "## sorting algorithms\n",
    "    - bubble sort \n",
    "    - insertion sort\n",
    "    - merge sort(for small array)\n",
    "    - heap sort\n",
    "    - quick sort(most comman)\n",
    "    - Tim sort(combined, many programming language use it)"
   ]
  }
 ],
 "metadata": {
  "language_info": {
   "name": "python"
  }
 },
 "nbformat": 4,
 "nbformat_minor": 2
}
