{
 "cells": [
  {
   "cell_type": "code",
   "execution_count": 1,
   "metadata": {},
   "outputs": [
    {
     "name": "stdout",
     "output_type": "stream",
     "text": [
      "Status: Optimal\n",
      "x1 = 5.0\n",
      "x2 = -15.0\n",
      "x3 = -15.0\n",
      "x4 = -15.0\n",
      "x5 = -15.0\n",
      "Objective = 40.0\n"
     ]
    }
   ],
   "source": [
    "# max: 2x1 - 3x2 + x3\n",
    "# s.t. x1 - x2 + x3 <= 5\n",
    "#      x1 - x2 + 4x3 <= 7\n",
    "#      x1 + 2x2 -x3 + x4 <= 14\n",
    "#      x3 - x4 + x5 <= 7\n",
    "#      x1, x2, x3, x4, x5 ∈ [-15, 15]\n",
    "#      x1, x2, x3, x4, x5 ∈ Z\n",
    "\n",
    "from pulp import *\n",
    "\n",
    "# Formulating the problem\n",
    "prob = LpProblem(\"Q1\", LpMaximize)\n",
    "\n",
    "# Variables\n",
    "x1 = LpVariable(\"x1\", -15, 15, LpInteger)\n",
    "x2 = LpVariable(\"x2\", -15, 15, LpInteger)\n",
    "x3 = LpVariable(\"x3\", -15, 15, LpInteger)\n",
    "x4 = LpVariable(\"x4\", -15, 15, LpInteger)\n",
    "x5 = LpVariable(\"x5\", -15, 15, LpInteger)\n",
    "\n",
    "# Objective\n",
    "prob += 2*x1 - 3*x2 + x3, \"Objective\"\n",
    "\n",
    "# Constraints\n",
    "prob += x1 - x2 + x3 <= 5\n",
    "prob += x1 - x2 + 4*x3 <= 7\n",
    "prob += x1 + 2*x2 - x3 + x4 <= 14\n",
    "prob += x3 - x4 + x5 <= 7\n",
    "\n",
    "# Solving the problem\n",
    "prob.solve()\n",
    "\n",
    "# Printing the results\n",
    "print(\"Status:\", LpStatus[prob.status])\n",
    "for v in prob.variables():\n",
    "    print(v.name, \"=\", v.varValue)\n",
    "\n",
    "print(\"Objective =\", value(prob.objective))"
   ]
  },
  {
   "cell_type": "code",
   "execution_count": 2,
   "metadata": {},
   "outputs": [
    {
     "name": "stdout",
     "output_type": "stream",
     "text": [
      "Status: Optimal\n",
      "x1 = 5.0\n",
      "x2 = -15.0\n",
      "x3 = -15.0\n",
      "x4 = -15.0\n",
      "x5 = -15.0\n",
      "Objective = 40.0\n"
     ]
    }
   ],
   "source": [
    "# max: 2x1 - 3x2 + x3\n",
    "# s.t. x1 - x2 + x3 <= 5\n",
    "#      x1 - x2 + 4x3 <= 7\n",
    "#      x1 + 2x2 -x3 + x4 <= 14\n",
    "#      x3 - x4 + x5 <= 7\n",
    "\n",
    "from pulp import *\n",
    "\n",
    "# Formulating the problem\n",
    "prob = LpProblem(\"Q2\", LpMaximize)\n",
    "\n",
    "# Variables\n",
    "x1 = LpVariable(\"x1\", -15, 15, LpContinuous)\n",
    "x2 = LpVariable(\"x2\", -15, 15, LpContinuous)\n",
    "x3 = LpVariable(\"x3\", -15, 15, LpContinuous)\n",
    "x4 = LpVariable(\"x4\", -15, 15, LpContinuous)\n",
    "x5 = LpVariable(\"x5\", -15, 15, LpContinuous)\n",
    "\n",
    "# Objective\n",
    "prob += 2*x1 - 3*x2 + x3, \"Objective\"\n",
    "\n",
    "# Constraints\n",
    "prob += x1 - x2 + x3 <= 5\n",
    "prob += x1 - x2 + 4*x3 <= 7\n",
    "prob += x1 + 2*x2 - x3 + x4 <= 14\n",
    "prob += x3 - x4 + x5 <= 7\n",
    "\n",
    "# Solving the problem\n",
    "prob.solve()\n",
    "\n",
    "# Printing the results\n",
    "print(\"Status:\", LpStatus[prob.status])\n",
    "for v in prob.variables():\n",
    "    print(v.name, \"=\", v.varValue)\n",
    "\n",
    "print(\"Objective =\", value(prob.objective))"
   ]
  },
  {
   "cell_type": "code",
   "execution_count": 5,
   "metadata": {},
   "outputs": [
    {
     "name": "stdout",
     "output_type": "stream",
     "text": [
      "Status: Infeasible\n",
      "x1 = 1.0\n",
      "x2 = 0.5\n",
      "x3 = -0.75\n",
      "Objective = -0.25\n"
     ]
    }
   ],
   "source": [
    "# min: 2x1 - 3x2 + x3\n",
    "# s.t. x1 - x2 >= 0.5\n",
    "#      x1 - x2 <= 0.75\n",
    "#      x2 - x3 <= 1.25\n",
    "#      x2 - x3 >= 0.95\n",
    "#      x1, x2, x3 ∈ [-1, 1]\n",
    "#      x1, x2, x3 ∈ Z\n",
    "\n",
    "from pulp import *\n",
    "\n",
    "# Formulating the problem\n",
    "prob = LpProblem(\"Q4\", LpMinimize)\n",
    "\n",
    "# Variables\n",
    "x1 = LpVariable(\"x1\", -1, 1, LpInteger)\n",
    "x2 = LpVariable(\"x2\", -1, 1, LpInteger)\n",
    "x3 = LpVariable(\"x3\", -1, 1, LpInteger)\n",
    "\n",
    "# Objective\n",
    "prob += 2*x1 - 3*x2 + x3, \"Objective\"\n",
    "\n",
    "# Constraints\n",
    "prob += x1 - x2 >= 0.5\n",
    "prob += x1 - x2 <= 0.75\n",
    "prob += x2 - x3 <= 1.25\n",
    "prob += x2 - x3 >= 0.95\n",
    "\n",
    "# Solving the problem\n",
    "prob.solve()\n",
    "\n",
    "# Printing the results\n",
    "print(\"Status:\", LpStatus[prob.status])\n",
    "for v in prob.variables():\n",
    "    print(v.name, \"=\", v.varValue)\n",
    "\n",
    "print(\"Objective =\", value(prob.objective))"
   ]
  },
  {
   "cell_type": "code",
   "execution_count": 6,
   "metadata": {},
   "outputs": [
    {
     "name": "stdout",
     "output_type": "stream",
     "text": [
      "Status: Optimal\n",
      "x1 = 1.0\n",
      "x2 = 0.5\n",
      "x3 = -0.75\n",
      "Objective = -0.25\n"
     ]
    }
   ],
   "source": [
    "# max: 2x1 - 3x2 + x3\n",
    "# s.t. x1 - x2 >= 0.5\n",
    "#      x1 - x2 <= 0.75\n",
    "#      x2 - x3 <= 1.25\n",
    "#      x2 - x3 >= 0.95\n",
    "\n",
    "from pulp import *\n",
    "\n",
    "# Formulating the problem\n",
    "prob = LpProblem(\"Q5\", LpMinimize)\n",
    "\n",
    "# Variables\n",
    "x1 = LpVariable(\"x1\", -1, 1, LpContinuous)\n",
    "x2 = LpVariable(\"x2\", -1, 1, LpContinuous)\n",
    "x3 = LpVariable(\"x3\", -1, 1, LpContinuous)\n",
    "\n",
    "# Objective\n",
    "prob += 2*x1 - 3*x2 + x3, \"Objective\"\n",
    "\n",
    "# Constraints\n",
    "prob += x1 - x2 >= 0.5\n",
    "prob += x1 - x2 <= 0.75\n",
    "prob += x2 - x3 <= 1.25\n",
    "prob += x2 - x3 >= 0.95\n",
    "\n",
    "# Solving the problem\n",
    "prob.solve()\n",
    "\n",
    "# Printing the results\n",
    "print(\"Status:\", LpStatus[prob.status])\n",
    "for v in prob.variables():\n",
    "    print(v.name, \"=\", v.varValue)\n",
    "\n",
    "print(\"Objective =\", value(prob.objective))"
   ]
  }
 ],
 "metadata": {
  "kernelspec": {
   "display_name": "venv",
   "language": "python",
   "name": "python3"
  },
  "language_info": {
   "codemirror_mode": {
    "name": "ipython",
    "version": 3
   },
   "file_extension": ".py",
   "mimetype": "text/x-python",
   "name": "python",
   "nbconvert_exporter": "python",
   "pygments_lexer": "ipython3",
   "version": "3.11.0"
  }
 },
 "nbformat": 4,
 "nbformat_minor": 2
}
